{
 "cells": [
  {
   "cell_type": "code",
   "execution_count": null,
   "metadata": {},
   "outputs": [],
   "source": [
    "%matplotlib inline\n",
    "import matplotlib.pyplot as plt"
   ]
  },
  {
   "cell_type": "markdown",
   "metadata": {},
   "source": [
    "## CMPE 365 Lab 1\n",
    "### Collartz Problem"
   ]
  },
  {
   "cell_type": "code",
   "execution_count": null,
   "metadata": {},
   "outputs": [],
   "source": [
    "def collartz(x):\n",
    "    count = 0\n",
    "    while x != 1:\n",
    "        count += 1\n",
    "        if x % 2 == 0:\n",
    "            x = x/2\n",
    "        else:\n",
    "            x = 3*x + 1\n",
    "    return count"
   ]
  },
  {
   "cell_type": "markdown",
   "metadata": {},
   "source": [
    "Consider itereating from 1 to 1000"
   ]
  },
  {
   "cell_type": "code",
   "execution_count": null,
   "metadata": {},
   "outputs": [],
   "source": [
    "initial_value = []\n",
    "iteration_count = []"
   ]
  },
  {
   "cell_type": "code",
   "execution_count": null,
   "metadata": {},
   "outputs": [],
   "source": [
    "for i in range(1000):\n",
    "    iteration_count.append(collartz(i+1))\n",
    "    initial_value.append(i+1)"
   ]
  },
  {
   "cell_type": "code",
   "execution_count": null,
   "metadata": {},
   "outputs": [],
   "source": [
    "plt.scatter(initial_value, iteration_count, marker='.')\n",
    "plt.show()"
   ]
  },
  {
   "cell_type": "markdown",
   "metadata": {},
   "source": [
    "Now, as the initial value is incremented from 1 to 1000 and passed to collartz(x), the value of x flucuates, and will often be end up being a value we have previosly passed as an initial value.  To reduce iteration steps, lets see what happens when we check if the value of x hits a value we already know will terminate. "
   ]
  },
  {
   "cell_type": "code",
   "execution_count": null,
   "metadata": {},
   "outputs": [],
   "source": [
    "def collartz(x, checked_values):\n",
    "    count = 0\n",
    "    while x != 1:\n",
    "        if x in checked_values:\n",
    "            break\n",
    "        count += 1\n",
    "        if x % 2 == 0:\n",
    "            x = x/2\n",
    "        else:\n",
    "            x = 3*x + 1\n",
    "    return count    "
   ]
  },
  {
   "cell_type": "code",
   "execution_count": null,
   "metadata": {},
   "outputs": [],
   "source": [
    "initial_value = []\n",
    "iteration_count = []\n",
    "for i in range(1000):\n",
    "    iteration_count.append(collartz(i+1, initial_value))\n",
    "    initial_value.append(i+1)"
   ]
  },
  {
   "cell_type": "code",
   "execution_count": null,
   "metadata": {},
   "outputs": [],
   "source": [
    "plt.scatter(initial_value, iteration_count, marker='.')\n",
    "plt.show()"
   ]
  },
  {
   "cell_type": "markdown",
   "metadata": {},
   "source": [
    "Now consider instread of only checking if the value of x is a number previosly given as the initial value,  lets check if that value for x has been computed and terminated previosly for any given initial value"
   ]
  },
  {
   "cell_type": "code",
   "execution_count": null,
   "metadata": {},
   "outputs": [],
   "source": [
    "def collartz(x, x_list):\n",
    "    count = 0\n",
    "    x_temp = []\n",
    "    while x != 1:\n",
    "        if x in x_list:\n",
    "            break\n",
    "        x_temp.append(x)\n",
    "        count += 1\n",
    "        if x % 2 == 0:\n",
    "            x = x/2\n",
    "        else:\n",
    "            x = 3*x + 1\n",
    "    return count, x_temp"
   ]
  },
  {
   "cell_type": "code",
   "execution_count": null,
   "metadata": {},
   "outputs": [],
   "source": [
    "initial_value = []\n",
    "iteration_count = []\n",
    "x_list = []\n",
    "for i in range(1000):\n",
    "    temp_list = []\n",
    "    count, temp_list = collartz(i+1, x_list)\n",
    "    initial_value.append(i+1)\n",
    "    iteration_count.append(count)\n",
    "    x_list += temp_list"
   ]
  },
  {
   "cell_type": "code",
   "execution_count": null,
   "metadata": {},
   "outputs": [],
   "source": [
    "plt.scatter(initial_value, iteration_count, marker = '.')\n",
    "plt.show()"
   ]
  }
 ],
 "metadata": {
  "kernelspec": {
   "display_name": "Python 3",
   "language": "python",
   "name": "python3"
  },
  "language_info": {
   "codemirror_mode": {
    "name": "ipython",
    "version": 3
   },
   "file_extension": ".py",
   "mimetype": "text/x-python",
   "name": "python",
   "nbconvert_exporter": "python",
   "pygments_lexer": "ipython3",
   "version": "3.6.4"
  }
 },
 "nbformat": 4,
 "nbformat_minor": 1
}
